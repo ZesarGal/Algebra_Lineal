{
  "nbformat": 4,
  "nbformat_minor": 0,
  "metadata": {
    "colab": {
      "provenance": []
    },
    "kernelspec": {
      "name": "python3",
      "display_name": "Python 3"
    },
    "language_info": {
      "name": "python"
    }
  },
  "cells": [
    {
      "cell_type": "markdown",
      "source": [
        "# Álgebra Lineal con Python\n",
        "\n",
        "Recordemos que si damos $n*m$ números reales, entonces podemos crear un arreglo (una matriz):\n",
        "$$A_{m\\times n}=\\begin{bmatrix}\n",
        "a_{11} & a_{12} & \\cdots & a_{1n} \\\\\n",
        "a_{21} & a_{22} & \\cdots & a_{2n} \\\\\n",
        "\\vdots & \\vdots & \\ddots & \\vdots \\\\\n",
        "a_{m1} & a_{m2} & \\cdots & a_{mn}\n",
        "\\end{bmatrix}$$\n",
        "\n",
        "y al conjunto de matrices con coeficientes en $\\mathbb{R}$ lo denotamos $\\text{Mat}_{m\\times n}(\\mathbb{R})$.\n",
        "\n",
        "Vimos que el conjunto $\\text{Mat}_{m\\times n}(\\mathbb{R})$ es un espacio vectorial de dimensión $n*m$. También, asociamos dos subespacios fundamentales:\n",
        "\n",
        "- El **Espacio nulo** de $A_{n\\times n}$:\n",
        "$$\\text{Nul}(A)=\\{ x\\in \\mathbb{R}^{n} : Ax=0 \\}.$$\n",
        "Al ser un subespacio vectorial, tiene dimensión la cual denotaremos por $\\dim(\\text{Nul}(A))=n(A)$.\n",
        "\n",
        "- El **Espacio columna** de $A_{m\\times n}$, \\text{Col}(A), es el espacio generado por las columnas de $A$. Una propiedad importante es que \n",
        "$$b\\in \\text{Col}(A) \\ \\ \\text{si y sólo si} \\ \\ Ax=b \\ \\ \\text{es consistente}.$$\n",
        "Al ser un subespacio vectorial, tiene dimensión la cual denotaremos por $\\dim(\\text{Col}(A))=r(A)$."
      ],
      "metadata": {
        "id": "MXfDgHr3RAt7"
      }
    },
    {
      "cell_type": "markdown",
      "source": [
        "El **Teorema de la dimensión** afirma que:\n",
        "$$n = n(A)+r(A).$$"
      ],
      "metadata": {
        "id": "-0ADRjwqtz-5"
      }
    },
    {
      "cell_type": "markdown",
      "source": [
        "$\\color{red}{\\text{Teorema fundamental}}$. Si $A_{n\\times n}$. Entonces las siguientes afirmaciones son equivalentes:\n",
        "\n",
        "\n",
        "1.   $A$ es invertible.\n",
        "2.   $\\text{Nul}(A)=\\{0\\}$\n",
        "3.   El sistema $Ax=b$ tiene una única solución para cada vector, $b$, de dimensión $n$.\n",
        "4.   $A$ es equivalente a la matriz identidad $I_{n}$.\n",
        "5.   Las columnas (y renglones) de $A$ son linealmente independientes.\n",
        "6.   $\\det(A)\\neq 0$.\n",
        "7.   $n(A)=0$.\n",
        "8.   $r(A)=n$.\n",
        "\n",
        "\n",
        "\n",
        "\n",
        "\n",
        "\n",
        "\n",
        "\n"
      ],
      "metadata": {
        "id": "nGJeJic4wEAz"
      }
    },
    {
      "cell_type": "markdown",
      "source": [
        "### Aritmética básica en Python"
      ],
      "metadata": {
        "id": "XnvnRvVdbCJl"
      }
    },
    {
      "cell_type": "code",
      "execution_count": null,
      "metadata": {
        "colab": {
          "base_uri": "https://localhost:8080/"
        },
        "id": "pVs9tSQwQs27",
        "outputId": "216d9e7e-a64f-41cd-f9c0-954da3038313"
      },
      "outputs": [
        {
          "output_type": "execute_result",
          "data": {
            "text/plain": [
              "2"
            ]
          },
          "metadata": {},
          "execution_count": 1
        }
      ],
      "source": [
        "1+1"
      ]
    },
    {
      "cell_type": "code",
      "source": [
        "3.5 - 2.6 "
      ],
      "metadata": {
        "colab": {
          "base_uri": "https://localhost:8080/"
        },
        "id": "6lcGqR1nbAlf",
        "outputId": "eae573c6-e2aa-4c84-8a9a-030aa8035160"
      },
      "execution_count": null,
      "outputs": [
        {
          "output_type": "execute_result",
          "data": {
            "text/plain": [
              "0.8999999999999999"
            ]
          },
          "metadata": {},
          "execution_count": 2
        }
      ]
    },
    {
      "cell_type": "code",
      "source": [
        "2*3 "
      ],
      "metadata": {
        "colab": {
          "base_uri": "https://localhost:8080/"
        },
        "id": "6hkUXr3Zby5u",
        "outputId": "35bd1908-c0c7-4865-c198-2ec9e9748315"
      },
      "execution_count": null,
      "outputs": [
        {
          "output_type": "execute_result",
          "data": {
            "text/plain": [
              "6"
            ]
          },
          "metadata": {},
          "execution_count": 3
        }
      ]
    },
    {
      "cell_type": "code",
      "source": [
        "2**3"
      ],
      "metadata": {
        "colab": {
          "base_uri": "https://localhost:8080/"
        },
        "id": "G2tJOT8Ob-PA",
        "outputId": "5ddae8de-414c-4cfb-e579-ddb6e826f45a"
      },
      "execution_count": null,
      "outputs": [
        {
          "output_type": "execute_result",
          "data": {
            "text/plain": [
              "8"
            ]
          },
          "metadata": {},
          "execution_count": 4
        }
      ]
    },
    {
      "cell_type": "code",
      "source": [
        "4/3"
      ],
      "metadata": {
        "colab": {
          "base_uri": "https://localhost:8080/"
        },
        "id": "RO_6C5X0cCTU",
        "outputId": "715ecbf5-eb95-44b1-a81f-1edfda50b369"
      },
      "execution_count": null,
      "outputs": [
        {
          "output_type": "execute_result",
          "data": {
            "text/plain": [
              "1.3333333333333333"
            ]
          },
          "metadata": {},
          "execution_count": 5
        }
      ]
    },
    {
      "cell_type": "code",
      "source": [
        "4//3 # división al piso"
      ],
      "metadata": {
        "colab": {
          "base_uri": "https://localhost:8080/"
        },
        "id": "Hn8Zbyz5cISg",
        "outputId": "3d1bf28c-3182-436c-b24a-9fc6f55cbe8c"
      },
      "execution_count": null,
      "outputs": [
        {
          "output_type": "execute_result",
          "data": {
            "text/plain": [
              "1"
            ]
          },
          "metadata": {},
          "execution_count": 6
        }
      ]
    },
    {
      "cell_type": "code",
      "source": [
        "type(2), type(2.0), type(\"2\") # La función type(obj) nos dice el tipo de objeto con el que se está trabajando."
      ],
      "metadata": {
        "colab": {
          "base_uri": "https://localhost:8080/"
        },
        "id": "rrsH4dA7SLmP",
        "outputId": "f4bfc8cf-ed4f-48d0-a75f-3bc069c95ddc"
      },
      "execution_count": null,
      "outputs": [
        {
          "output_type": "execute_result",
          "data": {
            "text/plain": [
              "(int, float, str)"
            ]
          },
          "metadata": {},
          "execution_count": 7
        }
      ]
    },
    {
      "cell_type": "markdown",
      "source": [
        "### Debug: \n",
        "$$\\text{nombre} = \\text{objeto}$$\n",
        "\n",
        "Debug: $\\text{print(variable)}$"
      ],
      "metadata": {
        "id": "F_m9B2_BdbEM"
      }
    },
    {
      "cell_type": "code",
      "source": [
        "variable = \"Hola\"\n",
        "\n",
        "x = 5 \n",
        "\n",
        "Cesar = {1, 2, \"perro\"} \n",
        "\n",
        "print(variable) \n",
        "\n",
        "print(x) \n"
      ],
      "metadata": {
        "colab": {
          "base_uri": "https://localhost:8080/"
        },
        "id": "dz_gBPd5do6U",
        "outputId": "b3630ed9-fd59-47e3-e3c0-7486c8ae69e9"
      },
      "execution_count": null,
      "outputs": [
        {
          "output_type": "stream",
          "name": "stdout",
          "text": [
            "Hola\n",
            "5\n"
          ]
        }
      ]
    },
    {
      "cell_type": "code",
      "source": [
        "variable + str(x)  "
      ],
      "metadata": {
        "colab": {
          "base_uri": "https://localhost:8080/",
          "height": 57
        },
        "id": "xhVqoFuIfMK8",
        "outputId": "b03ea7d7-6e94-45cd-fc21-e0dc815bb45a"
      },
      "execution_count": null,
      "outputs": [
        {
          "output_type": "execute_result",
          "data": {
            "text/plain": [
              "'Hola5'"
            ],
            "application/vnd.google.colaboratory.intrinsic+json": {
              "type": "string"
            }
          },
          "metadata": {},
          "execution_count": 9
        }
      ]
    },
    {
      "cell_type": "markdown",
      "source": [
        "### Listas\n",
        "\n",
        "$L=[a_{1}, a_{2}, \\dots, a_{n}]$"
      ],
      "metadata": {
        "id": "V7poYJujSoqF"
      }
    },
    {
      "cell_type": "code",
      "source": [
        "L = [1, 2, 3, 4, 5]\n",
        "\n",
        "M = [6, 7, 8, 9 , 10]\n",
        "\n",
        "N = [11, 12, 13]\n",
        "\n",
        "print(L)\n",
        "print(M)  # me muestra el resultado\n",
        "print(N)"
      ],
      "metadata": {
        "colab": {
          "base_uri": "https://localhost:8080/"
        },
        "id": "rMxqQX4SSW4t",
        "outputId": "8107b937-ca04-4ec3-fe27-aa48848ed777"
      },
      "execution_count": null,
      "outputs": [
        {
          "output_type": "stream",
          "name": "stdout",
          "text": [
            "[1, 2, 3, 4, 5]\n",
            "[6, 7, 8, 9, 10]\n",
            "[11, 12, 13]\n"
          ]
        }
      ]
    },
    {
      "cell_type": "code",
      "source": [
        "type(L) "
      ],
      "metadata": {
        "id": "Zw1hYNaqTAwy",
        "outputId": "29dc7cc6-4c18-4f19-f7f2-e980d747fcb4",
        "colab": {
          "base_uri": "https://localhost:8080/"
        }
      },
      "execution_count": null,
      "outputs": [
        {
          "output_type": "execute_result",
          "data": {
            "text/plain": [
              "list"
            ]
          },
          "metadata": {},
          "execution_count": 11
        }
      ]
    },
    {
      "cell_type": "code",
      "source": [
        "L_set = set(L) \n",
        "\n",
        "L_set "
      ],
      "metadata": {
        "colab": {
          "base_uri": "https://localhost:8080/"
        },
        "id": "PrOqz_EkgzZo",
        "outputId": "a2aecb93-2895-44b6-fa21-295a45bee2e0"
      },
      "execution_count": null,
      "outputs": [
        {
          "output_type": "execute_result",
          "data": {
            "text/plain": [
              "{1, 2, 3, 4, 5}"
            ]
          },
          "metadata": {},
          "execution_count": 12
        }
      ]
    },
    {
      "cell_type": "code",
      "source": [
        "L_lista = list(L_set) \n",
        "L_lista "
      ],
      "metadata": {
        "colab": {
          "base_uri": "https://localhost:8080/"
        },
        "id": "odNKcoujeWBS",
        "outputId": "b366638e-b970-4a95-a153-fb480753382b"
      },
      "execution_count": null,
      "outputs": [
        {
          "output_type": "execute_result",
          "data": {
            "text/plain": [
              "[1, 2, 3, 4, 5]"
            ]
          },
          "metadata": {},
          "execution_count": 13
        }
      ]
    },
    {
      "cell_type": "code",
      "source": [
        "L + M # concatena (no realiza operaciones vectoriales)."
      ],
      "metadata": {
        "colab": {
          "base_uri": "https://localhost:8080/"
        },
        "id": "ty7z2IXFhO1N",
        "outputId": "a2008210-eca1-47f3-df14-3f65260ff1ae"
      },
      "execution_count": null,
      "outputs": [
        {
          "output_type": "execute_result",
          "data": {
            "text/plain": [
              "[1, 2, 3, 4, 5, 6, 7, 8, 9, 10]"
            ]
          },
          "metadata": {},
          "execution_count": 14
        }
      ]
    },
    {
      "cell_type": "code",
      "source": [
        "L + M + N "
      ],
      "metadata": {
        "colab": {
          "base_uri": "https://localhost:8080/"
        },
        "id": "KGyV18pje0dm",
        "outputId": "05c62159-2cda-428d-be2e-7b8453cd0be9"
      },
      "execution_count": null,
      "outputs": [
        {
          "output_type": "execute_result",
          "data": {
            "text/plain": [
              "[1, 2, 3, 4, 5, 6, 7, 8, 9, 10, 11, 12, 13]"
            ]
          },
          "metadata": {},
          "execution_count": 15
        }
      ]
    },
    {
      "cell_type": "markdown",
      "source": [
        "### NumPy"
      ],
      "metadata": {
        "id": "cHpWBMkijawY"
      }
    },
    {
      "cell_type": "markdown",
      "source": [
        "- Un vector = arreglo 1D en Python\n",
        "- Una matriz = arreglo 2D en Python"
      ],
      "metadata": {
        "id": "qTF0vi9alcXr"
      }
    },
    {
      "cell_type": "code",
      "source": [
        "import numpy as np "
      ],
      "metadata": {
        "id": "cM1VQWLvjO6z"
      },
      "execution_count": null,
      "outputs": []
    },
    {
      "cell_type": "code",
      "source": [
        "L_vector = np.array(L) # Convertir una lista en un vector\n",
        "\n",
        "L_vector "
      ],
      "metadata": {
        "colab": {
          "base_uri": "https://localhost:8080/"
        },
        "id": "ZAl3bdrqlzCq",
        "outputId": "3f01ecf1-312a-406d-99dc-5de7a97b7259"
      },
      "execution_count": null,
      "outputs": [
        {
          "output_type": "execute_result",
          "data": {
            "text/plain": [
              "array([1, 2, 3, 4, 5])"
            ]
          },
          "metadata": {},
          "execution_count": 17
        }
      ]
    },
    {
      "cell_type": "code",
      "source": [
        "type(L_vector) "
      ],
      "metadata": {
        "colab": {
          "base_uri": "https://localhost:8080/"
        },
        "id": "JcKmNPCqdK-U",
        "outputId": "45214879-e873-4e5e-99d1-721539a5b8f8"
      },
      "execution_count": null,
      "outputs": [
        {
          "output_type": "execute_result",
          "data": {
            "text/plain": [
              "numpy.ndarray"
            ]
          },
          "metadata": {},
          "execution_count": 18
        }
      ]
    },
    {
      "cell_type": "code",
      "source": [
        "M_vector = np.array(M) \n",
        "\n",
        "N_vector = np.array(N)\n",
        "\n",
        "print(M_vector)\n",
        "print(N_vector)"
      ],
      "metadata": {
        "colab": {
          "base_uri": "https://localhost:8080/"
        },
        "id": "B7c2SQ3DmSkL",
        "outputId": "15486b8e-d713-4614-ea03-cc64735e6632"
      },
      "execution_count": null,
      "outputs": [
        {
          "output_type": "stream",
          "name": "stdout",
          "text": [
            "[ 6  7  8  9 10]\n",
            "[11 12 13]\n"
          ]
        }
      ]
    },
    {
      "cell_type": "code",
      "source": [
        "len(L_vector), len(M_vector), len(N_vector)"
      ],
      "metadata": {
        "colab": {
          "base_uri": "https://localhost:8080/"
        },
        "id": "qWXPx9wHnVrV",
        "outputId": "a52126e2-1880-44f8-fe42-3d3be21cf1ae"
      },
      "execution_count": null,
      "outputs": [
        {
          "output_type": "execute_result",
          "data": {
            "text/plain": [
              "(5, 5, 3)"
            ]
          },
          "metadata": {},
          "execution_count": 20
        }
      ]
    },
    {
      "cell_type": "code",
      "source": [
        "L_vector + M_vector # suma vectorial"
      ],
      "metadata": {
        "colab": {
          "base_uri": "https://localhost:8080/"
        },
        "id": "FivOuxE5oClc",
        "outputId": "343fe629-1a59-4e77-bb3e-cb6944a70d12"
      },
      "execution_count": null,
      "outputs": [
        {
          "output_type": "execute_result",
          "data": {
            "text/plain": [
              "array([ 7,  9, 11, 13, 15])"
            ]
          },
          "metadata": {},
          "execution_count": 21
        }
      ]
    },
    {
      "cell_type": "markdown",
      "source": [
        "## Creando matrices con NumPy: El método `solve( , )`\n"
      ],
      "metadata": {
        "id": "Oq29FUQwQk4k"
      }
    },
    {
      "cell_type": "code",
      "source": [
        "A = np.array([1, 2, 1, 3]).reshape((2,2))\n",
        "A "
      ],
      "metadata": {
        "id": "Aizg3wSfovh3",
        "colab": {
          "base_uri": "https://localhost:8080/"
        },
        "outputId": "c12e0bbe-4352-4723-abfd-ed40e6d3d187"
      },
      "execution_count": null,
      "outputs": [
        {
          "output_type": "execute_result",
          "data": {
            "text/plain": [
              "array([[1, 2],\n",
              "       [1, 3]])"
            ]
          },
          "metadata": {},
          "execution_count": 22
        }
      ]
    },
    {
      "cell_type": "code",
      "source": [
        "B = np.array([1,3]) "
      ],
      "metadata": {
        "id": "Dlk3EOZSR7Q_"
      },
      "execution_count": null,
      "outputs": []
    },
    {
      "cell_type": "markdown",
      "source": [
        "$$AX=B$$"
      ],
      "metadata": {
        "id": "2-ZBA4T2SmfG"
      }
    },
    {
      "cell_type": "code",
      "source": [
        "X = np.linalg.solve(A,B) \n",
        "\n",
        "X"
      ],
      "metadata": {
        "colab": {
          "base_uri": "https://localhost:8080/"
        },
        "id": "a7M19yRISlxU",
        "outputId": "34c02459-c4a1-4bd7-9aec-60cbb0e9e79a"
      },
      "execution_count": null,
      "outputs": [
        {
          "output_type": "stream",
          "name": "stdout",
          "text": [
            "[-3.  2.]\n"
          ]
        }
      ]
    }
  ]
}