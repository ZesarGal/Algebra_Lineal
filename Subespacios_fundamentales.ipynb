{
  "nbformat": 4,
  "nbformat_minor": 0,
  "metadata": {
    "colab": {
      "provenance": []
    },
    "kernelspec": {
      "name": "python3",
      "display_name": "Python 3"
    },
    "language_info": {
      "name": "python"
    }
  },
  "cells": [
    {
      "cell_type": "markdown",
      "source": [
        "Sea $ A_{m\\times n} $ una matriz de tamaño $m\\times n$. Consideremos al espacio vectorial formado por las matrices $A_{m\\times n}$, $\\text{Mat}_{m\\times n}(\\mathbb{R})$.\n",
        "\n",
        "\n",
        "\n",
        "*   $\\text{Col}(A)$ \n",
        "*   $\\text{Nul}(A)$\n",
        "\n",
        "Sabemos lo siguiente:\n",
        "$$\\dim_{m\\times n}\\text{Mat}_{m\\times n}(\\mathbb{R})= m*n.$$\n",
        "\n",
        "Esto implica, en particular, si tomamos $\\mathbb{R}^{nm}$\n",
        "$$ \\text{Mat}_{m\\times n}(\\mathbb{R}) ≃ \\mathbb{R}^{nm}.$$\n",
        "\n",
        "Llamamos a la dimensión de los subespacios fundamentales:\n",
        "\n",
        "\n",
        "*   $r(A)=\\dim(\\text{Col}(A))$ rango de $A$.\n",
        "*   $n(A)=\\dim(\\text{Nul}(A))$ nulidad de $A$.\n",
        "\n",
        "Teorema de la dimensión:\n",
        "$$n=r(A) + n(A).$$\n",
        "\n",
        "Recordemos también, lo siguiente \n",
        "$$\\text{Nul(A)}=\\{ x\\in \\mathbb{R}^{n} : Ax = 0 \\}.$$\n",
        "Si $\\text{Nul}(A)=\\{ 0\\}$ entonces $n=r(A)$. \n",
        "\n",
        "Si $n(A)=0$ y $A_{n\\times n}$ es una matriz cuadrada, entonces el sistema de ecuaciones\n",
        "$$Ax=b$$\n",
        "tiene solución única.  \n",
        "\n",
        "\n",
        "\n",
        "\n"
      ],
      "metadata": {
        "id": "GMrT4Nx-xigx"
      }
    },
    {
      "cell_type": "code",
      "execution_count": null,
      "metadata": {
        "id": "5UOIgjY0xbhp"
      },
      "outputs": [],
      "source": [
        "import numpy as np \n",
        "from sympy import Matrix "
      ]
    },
    {
      "cell_type": "code",
      "source": [
        "L = [2, 3, 5, -4, 2, 3, 0, 0, 0]\n",
        "\n",
        "A = np.array(L).reshape((3,3)) \n",
        "\n",
        "A"
      ],
      "metadata": {
        "colab": {
          "base_uri": "https://localhost:8080/"
        },
        "id": "cuj9xmUK37ui",
        "outputId": "f8fcca2a-2e02-4eab-fab5-6de8522dbddb"
      },
      "execution_count": null,
      "outputs": [
        {
          "output_type": "execute_result",
          "data": {
            "text/plain": [
              "array([[ 2,  3,  5],\n",
              "       [-4,  2,  3],\n",
              "       [ 0,  0,  0]])"
            ]
          },
          "metadata": {},
          "execution_count": 6
        }
      ]
    },
    {
      "cell_type": "code",
      "source": [
        "type(A) "
      ],
      "metadata": {
        "colab": {
          "base_uri": "https://localhost:8080/"
        },
        "id": "Z3h1FSvC5V1e",
        "outputId": "50387000-e32e-4b20-cad8-d61403084307"
      },
      "execution_count": null,
      "outputs": [
        {
          "output_type": "execute_result",
          "data": {
            "text/plain": [
              "numpy.ndarray"
            ]
          },
          "metadata": {},
          "execution_count": 7
        }
      ]
    },
    {
      "cell_type": "code",
      "source": [
        "A = Matrix(A) # cambiamos el arreglo a un nuevo arreglo en Sympy \n",
        "\n",
        "A"
      ],
      "metadata": {
        "colab": {
          "base_uri": "https://localhost:8080/",
          "height": 99
        },
        "id": "zN5ehA0Q54jo",
        "outputId": "a2562abf-7981-4550-cc01-418f3c56bc4a"
      },
      "execution_count": null,
      "outputs": [
        {
          "output_type": "execute_result",
          "data": {
            "text/plain": [
              "Matrix([\n",
              "[ 2, 3, 5],\n",
              "[-4, 2, 3],\n",
              "[ 0, 0, 0]])"
            ],
            "text/latex": "$\\displaystyle \\left[\\begin{matrix}2 & 3 & 5\\\\-4 & 2 & 3\\\\0 & 0 & 0\\end{matrix}\\right]$"
          },
          "metadata": {},
          "execution_count": 8
        }
      ]
    },
    {
      "cell_type": "code",
      "source": [
        "N_A = A.nullspace() \n",
        "N_A"
      ],
      "metadata": {
        "colab": {
          "base_uri": "https://localhost:8080/"
        },
        "id": "kZkRsbmx6GhQ",
        "outputId": "520e798c-7c5e-4c9b-9065-7c8307965891"
      },
      "execution_count": null,
      "outputs": [
        {
          "output_type": "execute_result",
          "data": {
            "text/plain": [
              "[Matrix([\n",
              " [-1/16],\n",
              " [-13/8],\n",
              " [    1]])]"
            ]
          },
          "metadata": {},
          "execution_count": 12
        }
      ]
    },
    {
      "cell_type": "code",
      "source": [
        "C_A = A.columnspace() \n",
        "C_A"
      ],
      "metadata": {
        "colab": {
          "base_uri": "https://localhost:8080/"
        },
        "id": "OFEmKAst7sXI",
        "outputId": "19265d83-9a45-4ad0-f609-0b9cf2c54f0f"
      },
      "execution_count": null,
      "outputs": [
        {
          "output_type": "execute_result",
          "data": {
            "text/plain": [
              "[Matrix([\n",
              " [ 2],\n",
              " [-4],\n",
              " [ 0]]),\n",
              " Matrix([\n",
              " [3],\n",
              " [2],\n",
              " [0]])]"
            ]
          },
          "metadata": {},
          "execution_count": 14
        }
      ]
    },
    {
      "cell_type": "code",
      "source": [
        "A = np.array([[1, 2, 3], [4, 5, 6], [7, 8, 9]])\n",
        "\n",
        "A"
      ],
      "metadata": {
        "colab": {
          "base_uri": "https://localhost:8080/"
        },
        "id": "sZoCqNvu8OVp",
        "outputId": "3653aa5f-df12-41d9-f28b-00e5fe83feed"
      },
      "execution_count": null,
      "outputs": [
        {
          "output_type": "execute_result",
          "data": {
            "text/plain": [
              "array([[1, 2, 3],\n",
              "       [4, 5, 6],\n",
              "       [7, 8, 9]])"
            ]
          },
          "metadata": {},
          "execution_count": 16
        }
      ]
    },
    {
      "cell_type": "code",
      "source": [
        "A = Matrix(A) \n",
        "\n",
        "A "
      ],
      "metadata": {
        "colab": {
          "base_uri": "https://localhost:8080/",
          "height": 99
        },
        "id": "lcTmfrdi84_G",
        "outputId": "e00d6496-939f-479c-b6bd-1fa5f609bf68"
      },
      "execution_count": null,
      "outputs": [
        {
          "output_type": "execute_result",
          "data": {
            "text/plain": [
              "Matrix([\n",
              "[1, 2, 3],\n",
              "[4, 5, 6],\n",
              "[7, 8, 9]])"
            ],
            "text/latex": "$\\displaystyle \\left[\\begin{matrix}1 & 2 & 3\\\\4 & 5 & 6\\\\7 & 8 & 9\\end{matrix}\\right]$"
          },
          "metadata": {},
          "execution_count": 17
        }
      ]
    },
    {
      "cell_type": "code",
      "source": [
        "A.shape[0] # número de renglones"
      ],
      "metadata": {
        "colab": {
          "base_uri": "https://localhost:8080/"
        },
        "id": "Z2vK_1md91Sz",
        "outputId": "f41ceb18-b9d6-436c-a2a3-db5978082be3"
      },
      "execution_count": null,
      "outputs": [
        {
          "output_type": "execute_result",
          "data": {
            "text/plain": [
              "3"
            ]
          },
          "metadata": {},
          "execution_count": 19
        }
      ]
    },
    {
      "cell_type": "code",
      "source": [
        "n = A.shape[1] # número de columnas\n",
        "\n",
        "n"
      ],
      "metadata": {
        "colab": {
          "base_uri": "https://localhost:8080/"
        },
        "id": "jfuoevDf9-Dm",
        "outputId": "3fc51e0a-06a8-46ab-9fee-dc7236f99fdf"
      },
      "execution_count": null,
      "outputs": [
        {
          "output_type": "execute_result",
          "data": {
            "text/plain": [
              "3"
            ]
          },
          "metadata": {},
          "execution_count": 23
        }
      ]
    },
    {
      "cell_type": "code",
      "source": [
        "r_A = A.rank() # dimensión del espacio Col(A)  \n",
        "r_A "
      ],
      "metadata": {
        "colab": {
          "base_uri": "https://localhost:8080/"
        },
        "id": "Q0ZaJTou-Kr2",
        "outputId": "0ffc45a1-47ee-4434-cd2d-044543b645b5"
      },
      "execution_count": null,
      "outputs": [
        {
          "output_type": "execute_result",
          "data": {
            "text/plain": [
              "2"
            ]
          },
          "metadata": {},
          "execution_count": 25
        }
      ]
    },
    {
      "cell_type": "markdown",
      "source": [
        "$$n=n(A)+r(A)$$"
      ],
      "metadata": {
        "id": "tHVJaCdQ-oS8"
      }
    },
    {
      "cell_type": "code",
      "source": [
        "n_A = n - r_A\n",
        "\n",
        "n_A "
      ],
      "metadata": {
        "colab": {
          "base_uri": "https://localhost:8080/"
        },
        "id": "LCxmeN-0-Uhj",
        "outputId": "b236fd61-7515-4729-e6bb-4274a2d03186"
      },
      "execution_count": null,
      "outputs": [
        {
          "output_type": "execute_result",
          "data": {
            "text/plain": [
              "1"
            ]
          },
          "metadata": {},
          "execution_count": 26
        }
      ]
    },
    {
      "cell_type": "markdown",
      "source": [
        "¿Qué significa este resultado?\n",
        "\n",
        "\n",
        "\n",
        "*   $x+ 2y +3z = 1$\n",
        "*   $4x+5y+6z = 0$\n",
        "*   $7x + 8y + 9z= 5$\n",
        "\n",
        "Ya que $n(A)=1$, entonces el sistema no tiene solución única.\n",
        "\n"
      ],
      "metadata": {
        "id": "5dB-eb2L-yZc"
      }
    },
    {
      "cell_type": "code",
      "source": [
        "A.det() "
      ],
      "metadata": {
        "colab": {
          "base_uri": "https://localhost:8080/",
          "height": 57
        },
        "id": "QYYzPQ5A-vOw",
        "outputId": "ecb5e297-b8bc-490a-fab1-579aa23ced4c"
      },
      "execution_count": null,
      "outputs": [
        {
          "output_type": "execute_result",
          "data": {
            "text/plain": [
              "0"
            ],
            "text/latex": "$\\displaystyle 0$"
          },
          "metadata": {},
          "execution_count": 27
        }
      ]
    },
    {
      "cell_type": "code",
      "source": [
        "M = np.array([[1, 2, 3], [4, 5, 6], [7, 8, 9], [10, 11 , 12]])\n",
        "\n",
        "M = Matrix(M)\n",
        "\n",
        "M"
      ],
      "metadata": {
        "colab": {
          "base_uri": "https://localhost:8080/",
          "height": 120
        },
        "id": "4EyFK0e3_Ytq",
        "outputId": "e6120ed1-ca38-4cf5-f117-f4027e2cf547"
      },
      "execution_count": null,
      "outputs": [
        {
          "output_type": "execute_result",
          "data": {
            "text/plain": [
              "Matrix([\n",
              "[ 1,  2,  3],\n",
              "[ 4,  5,  6],\n",
              "[ 7,  8,  9],\n",
              "[10, 11, 12]])"
            ],
            "text/latex": "$\\displaystyle \\left[\\begin{matrix}1 & 2 & 3\\\\4 & 5 & 6\\\\7 & 8 & 9\\\\10 & 11 & 12\\end{matrix}\\right]$"
          },
          "metadata": {},
          "execution_count": 31
        }
      ]
    },
    {
      "cell_type": "code",
      "source": [
        "n = M.shape[1] \n",
        "\n",
        "n"
      ],
      "metadata": {
        "colab": {
          "base_uri": "https://localhost:8080/"
        },
        "id": "wXVGXjCs_wz5",
        "outputId": "c259e4dd-9c4e-4bd4-9994-fc2abf63e112"
      },
      "execution_count": null,
      "outputs": [
        {
          "output_type": "execute_result",
          "data": {
            "text/plain": [
              "3"
            ]
          },
          "metadata": {},
          "execution_count": 30
        }
      ]
    },
    {
      "cell_type": "code",
      "source": [
        "# Vamos a crear una función que calcule la nulidad de una matriz A  \n",
        "\n",
        "def nul(matriz):\n",
        "  n = matriz.shape[1] \n",
        "  r_matriz = matriz.rank() \n",
        "  n_matriz = n-r_matriz \n",
        "  return n_matriz    "
      ],
      "metadata": {
        "id": "LhpBAgDBAUvh"
      },
      "execution_count": null,
      "outputs": []
    },
    {
      "cell_type": "code",
      "source": [
        "nul(A) "
      ],
      "metadata": {
        "colab": {
          "base_uri": "https://localhost:8080/"
        },
        "id": "hRCzawZUBBW2",
        "outputId": "9b84c573-d7dd-4f52-d427-7e772c3b171a"
      },
      "execution_count": null,
      "outputs": [
        {
          "output_type": "execute_result",
          "data": {
            "text/plain": [
              "1"
            ]
          },
          "metadata": {},
          "execution_count": 43
        }
      ]
    },
    {
      "cell_type": "code",
      "source": [
        "A.det()"
      ],
      "metadata": {
        "colab": {
          "base_uri": "https://localhost:8080/",
          "height": 57
        },
        "id": "uC-Rut15BDsf",
        "outputId": "094123a0-2122-4297-d631-0be6c4534a01"
      },
      "execution_count": null,
      "outputs": [
        {
          "output_type": "execute_result",
          "data": {
            "text/plain": [
              "0"
            ],
            "text/latex": "$\\displaystyle 0$"
          },
          "metadata": {},
          "execution_count": 44
        }
      ]
    },
    {
      "cell_type": "code",
      "source": [
        "n_M = n-M.rank() \n",
        "\n",
        "n_M "
      ],
      "metadata": {
        "colab": {
          "base_uri": "https://localhost:8080/"
        },
        "id": "a5NkuX2bBMzZ",
        "outputId": "e4024afc-e8ed-466e-d34e-21ee1f56cf5a"
      },
      "execution_count": null,
      "outputs": [
        {
          "output_type": "execute_result",
          "data": {
            "text/plain": [
              "1"
            ]
          },
          "metadata": {},
          "execution_count": 45
        }
      ]
    }
  ]
}